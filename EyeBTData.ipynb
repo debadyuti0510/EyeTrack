{
 "cells": [
  {
   "cell_type": "code",
   "execution_count": 1,
   "metadata": {},
   "outputs": [],
   "source": [
    "import os\n",
    "import cv2\n",
    "import matplotlib.pyplot as plt\n",
    "import random\n",
    "import numpy as np\n",
    "import pickle"
   ]
  },
  {
   "cell_type": "code",
   "execution_count": 2,
   "metadata": {},
   "outputs": [],
   "source": [
    "IMG_DIM = 50\n",
    "training_data = []\n",
    "X = []\n",
    "y = []"
   ]
  },
  {
   "cell_type": "code",
   "execution_count": 3,
   "metadata": {},
   "outputs": [],
   "source": [
    "dataset_path = os.path.join(os.getcwd(), 'mrlEyes')\n",
    "dirs = [x for x in os.listdir(dataset_path) if os.path.isdir(os.path.join(dataset_path, x))]"
   ]
  },
  {
   "cell_type": "code",
   "execution_count": 4,
   "metadata": {},
   "outputs": [
    {
     "data": {
      "text/plain": [
       "'\\n\\nfor folder in dirs:\\n    dir_path = os.path.join(dataset_path, folder)\\n    for img in os.listdir(dir_path):\\n        print(img)\\n        snap = cv2.imread(os.path.join(dir_path,img), cv2.IMREAD_GRAYSCALE)\\n        print(\"Shape = \", snap.shape)\\n        snap = cv2.resize(snap, (IMG_DIM, IMG_DIM))\\n        plt.imshow(snap, cmap=\\'gray\\')\\n        plt.show()\\n        print(img.split(\\'_\\')[4])\\n        break\\n    break\\n\\n'"
      ]
     },
     "execution_count": 4,
     "metadata": {},
     "output_type": "execute_result"
    }
   ],
   "source": [
    "'''\n",
    "\n",
    "for folder in dirs:\n",
    "    dir_path = os.path.join(dataset_path, folder)\n",
    "    for img in os.listdir(dir_path):\n",
    "        print(img)\n",
    "        snap = cv2.imread(os.path.join(dir_path,img), cv2.IMREAD_GRAYSCALE)\n",
    "        print(\"Shape = \", snap.shape)\n",
    "        snap = cv2.resize(snap, (IMG_DIM, IMG_DIM))\n",
    "        plt.imshow(snap, cmap='gray')\n",
    "        plt.show()\n",
    "        print(img.split('_')[4])\n",
    "        break\n",
    "    break\n",
    "\n",
    "'''"
   ]
  },
  {
   "cell_type": "code",
   "execution_count": 5,
   "metadata": {},
   "outputs": [],
   "source": [
    "def create_dataset():\n",
    "    global X,y\n",
    "    for folder in dirs:\n",
    "        dir_path = os.path.join(dataset_path, folder)\n",
    "        for img in os.listdir(dir_path):\n",
    "            snap = cv2.imread(os.path.join(dir_path,img), cv2.IMREAD_GRAYSCALE)\n",
    "            snap = cv2.resize(snap, (IMG_DIM, IMG_DIM))\n",
    "            class_num = int(img.split('_')[4])\n",
    "            training_data.append([snap, class_num])\n",
    "    random.shuffle(training_data)\n",
    "    for fts, label in training_data:\n",
    "        X.append(fts)\n",
    "        y.append(label)\n",
    "    \n",
    "    X = np.array(X).reshape(-1, IMG_DIM, IMG_DIM, 1)\n",
    "    X = X/255.0\n",
    "    \n",
    "    pickle_out = open(os.path.join(os.getcwd(), 'processed_data',\"X.pickle\"), \"wb\")\n",
    "    pickle.dump(X, pickle_out)\n",
    "    pickle_out.close()\n",
    "\n",
    "    pickle_out = open(os.path.join(os.getcwd(), 'processed_data', \"y.pickle\"), \"wb\")\n",
    "    pickle.dump(y, pickle_out)\n",
    "    pickle_out.close()\n",
    "    print(len(training_data))\n",
    "    print(y[:10])"
   ]
  },
  {
   "cell_type": "code",
   "execution_count": 6,
   "metadata": {},
   "outputs": [
    {
     "name": "stdout",
     "output_type": "stream",
     "text": [
      "84898\n",
      "[1, 1, 1, 1, 0, 0, 0, 1, 0, 1]\n"
     ]
    }
   ],
   "source": [
    "create_dataset()"
   ]
  },
  {
   "cell_type": "code",
   "execution_count": null,
   "metadata": {},
   "outputs": [],
   "source": []
  }
 ],
 "metadata": {
  "kernelspec": {
   "display_name": "Eyetrack",
   "language": "python",
   "name": "eyetrack"
  },
  "language_info": {
   "codemirror_mode": {
    "name": "ipython",
    "version": 3
   },
   "file_extension": ".py",
   "mimetype": "text/x-python",
   "name": "python",
   "nbconvert_exporter": "python",
   "pygments_lexer": "ipython3",
   "version": "3.7.9"
  }
 },
 "nbformat": 4,
 "nbformat_minor": 4
}
