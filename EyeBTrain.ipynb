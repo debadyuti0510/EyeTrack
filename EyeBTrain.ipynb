{
 "cells": [
  {
   "cell_type": "code",
   "execution_count": 1,
   "metadata": {},
   "outputs": [
    {
     "name": "stdout",
     "output_type": "stream",
     "text": [
      "WARNING:tensorflow:From C:\\Users\\Debadyuti\\anaconda3\\envs\\Eyetrack\\lib\\site-packages\\tensorflow_core\\python\\compat\\v2_compat.py:88: disable_resource_variables (from tensorflow.python.ops.variable_scope) is deprecated and will be removed in a future version.\n",
      "Instructions for updating:\n",
      "non-resource variables are not supported in the long term\n"
     ]
    }
   ],
   "source": [
    "import tensorflow.compat.v1 as tf\n",
    "from tensorflow.keras.models import Sequential\n",
    "from tensorflow.keras.layers import Dense, Dropout, Activation, Flatten, Conv2D, MaxPooling2D\n",
    "import pickle\n",
    "import os\n",
    "import time\n",
    "tf.disable_v2_behavior()"
   ]
  },
  {
   "cell_type": "code",
   "execution_count": 2,
   "metadata": {},
   "outputs": [],
   "source": [
    "def load_data():\n",
    "    X = pickle.load(open(os.path.join(os.getcwd(), \"processed_data\", \"X.pickle\"), \"rb\"))\n",
    "    y = pickle.load(open(os.path.join(os.getcwd(), \"processed_data\", \"y.pickle\"), \"rb\"))\n",
    "    return X, y"
   ]
  },
  {
   "cell_type": "code",
   "execution_count": null,
   "metadata": {},
   "outputs": [],
   "source": []
  },
  {
   "cell_type": "code",
   "execution_count": 3,
   "metadata": {},
   "outputs": [],
   "source": [
    "def create_model(X):\n",
    "    tf.keras.backend.clear_session()\n",
    "    model = Sequential()\n",
    "    model.add(Conv2D(64, (3,3), input_shape = X.shape[1:]))\n",
    "    model.add(Activation(\"relu\"))\n",
    "    model.add(MaxPooling2D(pool_size=(2,2)))\n",
    "\n",
    "    model.add(Conv2D(64, (3,3)))\n",
    "    model.add(Activation(\"relu\"))\n",
    "    model.add(MaxPooling2D(pool_size=(2,2)))\n",
    "\n",
    "    model.add(Flatten())\n",
    "    model.add(Dense(128))\n",
    "    model.add(Dropout(0.5))\n",
    "    model.add(Activation(\"relu\"))\n",
    "\n",
    "    model.add(Dense(1))\n",
    "    model.add(Activation(\"sigmoid\"))\n",
    "\n",
    "    model.compile(loss=\"binary_crossentropy\", optimizer= \"adam\", metrics=[\"accuracy\"])\n",
    "    return model"
   ]
  },
  {
   "cell_type": "code",
   "execution_count": 4,
   "metadata": {},
   "outputs": [],
   "source": [
    "def train_model(model, X, y):\n",
    "    model.fit(X, y, batch_size=32, epochs=25, validation_split=0.2)\n",
    "    model.save(os.path.join(os.getcwd(), \"models\", \"eye-detect-cnn-\" + str(time.time_ns()) + \".model\" ))"
   ]
  },
  {
   "cell_type": "code",
   "execution_count": 5,
   "metadata": {},
   "outputs": [],
   "source": [
    "X,y = load_data()"
   ]
  },
  {
   "cell_type": "code",
   "execution_count": 6,
   "metadata": {},
   "outputs": [
    {
     "name": "stdout",
     "output_type": "stream",
     "text": [
      "WARNING:tensorflow:From C:\\Users\\Debadyuti\\anaconda3\\envs\\Eyetrack\\lib\\site-packages\\tensorflow_core\\python\\ops\\resource_variable_ops.py:1635: calling BaseResourceVariable.__init__ (from tensorflow.python.ops.resource_variable_ops) with constraint is deprecated and will be removed in a future version.\n",
      "Instructions for updating:\n",
      "If using Keras pass *_constraint arguments to layers.\n"
     ]
    }
   ],
   "source": [
    "model = create_model(X)"
   ]
  },
  {
   "cell_type": "code",
   "execution_count": 7,
   "metadata": {},
   "outputs": [
    {
     "name": "stdout",
     "output_type": "stream",
     "text": [
      "Train on 67918 samples, validate on 16980 samples\n",
      "Epoch 1/25\n",
      "67918/67918 [==============================] - 16s 229us/sample - loss: 0.1968 - acc: 0.9255 - val_loss: 0.1007 - val_acc: 0.9632\n",
      "Epoch 2/25\n",
      "67918/67918 [==============================] - 13s 190us/sample - loss: 0.1021 - acc: 0.9638 - val_loss: 0.0737 - val_acc: 0.9754\n",
      "Epoch 3/25\n",
      "67918/67918 [==============================] - 13s 190us/sample - loss: 0.0807 - acc: 0.9720 - val_loss: 0.0646 - val_acc: 0.9771\n",
      "Epoch 4/25\n",
      "67918/67918 [==============================] - 13s 190us/sample - loss: 0.0693 - acc: 0.9760 - val_loss: 0.0532 - val_acc: 0.9814\n",
      "Epoch 5/25\n",
      "67918/67918 [==============================] - 13s 191us/sample - loss: 0.0632 - acc: 0.9783 - val_loss: 0.0496 - val_acc: 0.9833\n",
      "Epoch 6/25\n",
      "67918/67918 [==============================] - 13s 190us/sample - loss: 0.0576 - acc: 0.9795 - val_loss: 0.0490 - val_acc: 0.9832\n",
      "Epoch 7/25\n",
      "67918/67918 [==============================] - 13s 190us/sample - loss: 0.0530 - acc: 0.9816 - val_loss: 0.0450 - val_acc: 0.9840\n",
      "Epoch 8/25\n",
      "67918/67918 [==============================] - 13s 191us/sample - loss: 0.0500 - acc: 0.9827 - val_loss: 0.0411 - val_acc: 0.9852\n",
      "Epoch 9/25\n",
      "67918/67918 [==============================] - 13s 190us/sample - loss: 0.0446 - acc: 0.9843 - val_loss: 0.0403 - val_acc: 0.9866\n",
      "Epoch 10/25\n",
      "67918/67918 [==============================] - 13s 190us/sample - loss: 0.0443 - acc: 0.9847 - val_loss: 0.0407 - val_acc: 0.9861\n",
      "Epoch 11/25\n",
      "67918/67918 [==============================] - 13s 191us/sample - loss: 0.0417 - acc: 0.9854 - val_loss: 0.0424 - val_acc: 0.9858\n",
      "Epoch 12/25\n",
      "67918/67918 [==============================] - 13s 192us/sample - loss: 0.0384 - acc: 0.9865 - val_loss: 0.0398 - val_acc: 0.9878\n",
      "Epoch 13/25\n",
      "67918/67918 [==============================] - 13s 190us/sample - loss: 0.0372 - acc: 0.9870 - val_loss: 0.0412 - val_acc: 0.9862\n",
      "Epoch 14/25\n",
      "67918/67918 [==============================] - 13s 191us/sample - loss: 0.0352 - acc: 0.9869 - val_loss: 0.0384 - val_acc: 0.9882\n",
      "Epoch 15/25\n",
      "67918/67918 [==============================] - 13s 191us/sample - loss: 0.0349 - acc: 0.9874 - val_loss: 0.0404 - val_acc: 0.9870\n",
      "Epoch 16/25\n",
      "67918/67918 [==============================] - 13s 193us/sample - loss: 0.0332 - acc: 0.9877 - val_loss: 0.0375 - val_acc: 0.9881\n",
      "Epoch 17/25\n",
      "67918/67918 [==============================] - 13s 196us/sample - loss: 0.0327 - acc: 0.9877 - val_loss: 0.0428 - val_acc: 0.9866\n",
      "Epoch 18/25\n",
      "67918/67918 [==============================] - 14s 202us/sample - loss: 0.0309 - acc: 0.9884 - val_loss: 0.0390 - val_acc: 0.9885\n",
      "Epoch 19/25\n",
      "67918/67918 [==============================] - 14s 203us/sample - loss: 0.0308 - acc: 0.9893 - val_loss: 0.0403 - val_acc: 0.9867\n",
      "Epoch 20/25\n",
      "67918/67918 [==============================] - 14s 200us/sample - loss: 0.0279 - acc: 0.9900 - val_loss: 0.0378 - val_acc: 0.9895\n",
      "Epoch 21/25\n",
      "67918/67918 [==============================] - 14s 203us/sample - loss: 0.0280 - acc: 0.9895 - val_loss: 0.0448 - val_acc: 0.9882\n",
      "Epoch 22/25\n",
      "67918/67918 [==============================] - 14s 208us/sample - loss: 0.0261 - acc: 0.9902 - val_loss: 0.0391 - val_acc: 0.9889\n",
      "Epoch 23/25\n",
      "67918/67918 [==============================] - 14s 204us/sample - loss: 0.0267 - acc: 0.9900 - val_loss: 0.0425 - val_acc: 0.9883\n",
      "Epoch 24/25\n",
      "67918/67918 [==============================] - 13s 198us/sample - loss: 0.0251 - acc: 0.9906 - val_loss: 0.0440 - val_acc: 0.9885\n",
      "Epoch 25/25\n",
      "67918/67918 [==============================] - 14s 208us/sample - loss: 0.0245 - acc: 0.9907 - val_loss: 0.0458 - val_acc: 0.9876\n"
     ]
    }
   ],
   "source": [
    "train_model(model, X, y)"
   ]
  },
  {
   "cell_type": "code",
   "execution_count": null,
   "metadata": {},
   "outputs": [],
   "source": []
  }
 ],
 "metadata": {
  "kernelspec": {
   "display_name": "Eyetrack",
   "language": "python",
   "name": "eyetrack"
  },
  "language_info": {
   "codemirror_mode": {
    "name": "ipython",
    "version": 3
   },
   "file_extension": ".py",
   "mimetype": "text/x-python",
   "name": "python",
   "nbconvert_exporter": "python",
   "pygments_lexer": "ipython3",
   "version": "3.7.9"
  }
 },
 "nbformat": 4,
 "nbformat_minor": 4
}
